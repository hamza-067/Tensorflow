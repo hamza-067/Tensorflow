{
 "cells": [
  {
   "cell_type": "code",
   "execution_count": 1,
   "id": "af2584a7",
   "metadata": {},
   "outputs": [],
   "source": [
    "import tensorflow as tf"
   ]
  },
  {
   "cell_type": "code",
   "execution_count": 5,
   "id": "66366502",
   "metadata": {},
   "outputs": [],
   "source": [
    "tf.compat.v1.disable_eager_execution()"
   ]
  },
  {
   "cell_type": "markdown",
   "id": "d92fbab6",
   "metadata": {},
   "source": [
    "# Create Placeholder"
   ]
  },
  {
   "cell_type": "code",
   "execution_count": 13,
   "id": "fa72d86a",
   "metadata": {},
   "outputs": [
    {
     "data": {
      "text/plain": [
       "<tf.Tensor 'Placeholder_7:0' shape=(400, 400) dtype=float32>"
      ]
     },
     "execution_count": 13,
     "metadata": {},
     "output_type": "execute_result"
    }
   ],
   "source": [
    "a=tf.compat.v1.placeholder(dtype=tf.float32, shape=(400,400))\n",
    "a"
   ]
  },
  {
   "cell_type": "code",
   "execution_count": 14,
   "id": "3d5f0fd9",
   "metadata": {},
   "outputs": [
    {
     "data": {
      "text/plain": [
       "<tf.Tensor 'Placeholder_8:0' shape=(400, 400) dtype=float32>"
      ]
     },
     "execution_count": 14,
     "metadata": {},
     "output_type": "execute_result"
    }
   ],
   "source": [
    "b=tf.compat.v1.placeholder(dtype=tf.float32, shape=(400,400))\n",
    "b"
   ]
  },
  {
   "cell_type": "markdown",
   "id": "819ab0e2",
   "metadata": {},
   "source": [
    "# Perform Mathematical operation with placeholder"
   ]
  },
  {
   "cell_type": "code",
   "execution_count": 15,
   "id": "dffc0653",
   "metadata": {},
   "outputs": [
    {
     "data": {
      "text/plain": [
       "<tf.Tensor 'Add:0' shape=(400, 400) dtype=float32>"
      ]
     },
     "execution_count": 15,
     "metadata": {},
     "output_type": "execute_result"
    }
   ],
   "source": [
    "c =tf.add(a,b)\n",
    "c"
   ]
  },
  {
   "cell_type": "markdown",
   "id": "e45e7b7b",
   "metadata": {},
   "source": [
    "# Create Numpy"
   ]
  },
  {
   "cell_type": "code",
   "execution_count": 16,
   "id": "fe82857a",
   "metadata": {},
   "outputs": [],
   "source": [
    "import numpy as np"
   ]
  },
  {
   "cell_type": "code",
   "execution_count": 17,
   "id": "568a5bfc",
   "metadata": {},
   "outputs": [
    {
     "data": {
      "text/plain": [
       "array([[1., 1., 1., ..., 1., 1., 1.],\n",
       "       [1., 1., 1., ..., 1., 1., 1.],\n",
       "       [1., 1., 1., ..., 1., 1., 1.],\n",
       "       ...,\n",
       "       [1., 1., 1., ..., 1., 1., 1.],\n",
       "       [1., 1., 1., ..., 1., 1., 1.],\n",
       "       [1., 1., 1., ..., 1., 1., 1.]], dtype=float32)"
      ]
     },
     "execution_count": 17,
     "metadata": {},
     "output_type": "execute_result"
    }
   ],
   "source": [
    "one_array = np.ones((400,400), np.float32)\n",
    "one_array"
   ]
  },
  {
   "cell_type": "markdown",
   "id": "50160292",
   "metadata": {},
   "source": [
    "# Execute Tensorflow Placeholder using session"
   ]
  },
  {
   "cell_type": "code",
   "execution_count": 20,
   "id": "3d45eb51",
   "metadata": {},
   "outputs": [],
   "source": [
    "with tf.compat.v1.Session() as sess:\n",
    "    d = sess.run(c, feed_dict={a:one_array, b:one_array})"
   ]
  },
  {
   "cell_type": "code",
   "execution_count": 21,
   "id": "34e7a0c7",
   "metadata": {},
   "outputs": [
    {
     "data": {
      "text/plain": [
       "array([[2., 2., 2., ..., 2., 2., 2.],\n",
       "       [2., 2., 2., ..., 2., 2., 2.],\n",
       "       [2., 2., 2., ..., 2., 2., 2.],\n",
       "       ...,\n",
       "       [2., 2., 2., ..., 2., 2., 2.],\n",
       "       [2., 2., 2., ..., 2., 2., 2.],\n",
       "       [2., 2., 2., ..., 2., 2., 2.]], dtype=float32)"
      ]
     },
     "execution_count": 21,
     "metadata": {},
     "output_type": "execute_result"
    }
   ],
   "source": [
    "d"
   ]
  },
  {
   "cell_type": "code",
   "execution_count": 23,
   "id": "26cb9f39",
   "metadata": {},
   "outputs": [
    {
     "data": {
      "text/plain": [
       "numpy.ndarray"
      ]
     },
     "execution_count": 23,
     "metadata": {},
     "output_type": "execute_result"
    }
   ],
   "source": [
    "type(d)"
   ]
  },
  {
   "cell_type": "code",
   "execution_count": null,
   "id": "182c91bb",
   "metadata": {},
   "outputs": [],
   "source": []
  }
 ],
 "metadata": {
  "kernelspec": {
   "display_name": "Python 3 (ipykernel)",
   "language": "python",
   "name": "python3"
  },
  "language_info": {
   "codemirror_mode": {
    "name": "ipython",
    "version": 3
   },
   "file_extension": ".py",
   "mimetype": "text/x-python",
   "name": "python",
   "nbconvert_exporter": "python",
   "pygments_lexer": "ipython3",
   "version": "3.11.4"
  }
 },
 "nbformat": 4,
 "nbformat_minor": 5
}
