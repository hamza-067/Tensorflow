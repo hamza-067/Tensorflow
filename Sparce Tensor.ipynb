{
 "cells": [
  {
   "cell_type": "markdown",
   "id": "a843361d",
   "metadata": {},
   "source": [
    "\n",
    "# Sparce Tensor\n"
   ]
  },
  {
   "cell_type": "code",
   "execution_count": 1,
   "id": "b658c404",
   "metadata": {},
   "outputs": [],
   "source": [
    "import tensorflow as tf"
   ]
  },
  {
   "cell_type": "code",
   "execution_count": 2,
   "id": "c9a65179",
   "metadata": {},
   "outputs": [
    {
     "data": {
      "text/plain": [
       "SparseTensor(indices=tf.Tensor(\n",
       "[[0 2]\n",
       " [3 4]], shape=(2, 2), dtype=int64), values=tf.Tensor([10 20], shape=(2,), dtype=int32), dense_shape=tf.Tensor([ 3 10], shape=(2,), dtype=int64))"
      ]
     },
     "execution_count": 2,
     "metadata": {},
     "output_type": "execute_result"
    }
   ],
   "source": [
    "st1 = tf.sparse.SparseTensor(indices=[[0,2],[3,4]],values=[10,20], dense_shape=[3,10])\n",
    "st1"
   ]
  },
  {
   "cell_type": "code",
   "execution_count": 3,
   "id": "cc167300",
   "metadata": {},
   "outputs": [
    {
     "name": "stdout",
     "output_type": "stream",
     "text": [
      "tf.Tensor(\n",
      "[[1 0 0 0]\n",
      " [0 0 2 0]\n",
      " [0 0 0 0]], shape=(3, 4), dtype=int32)\n"
     ]
    }
   ],
   "source": [
    "import tensorflow as tf\n",
    "\n",
    "# create a sparse tensor\n",
    "sparse_tensor = tf.sparse.SparseTensor(indices=[[0, 0], [1, 2]], values=[1, 2], dense_shape=[3, 4])\n",
    "\n",
    "# convert it to a dense tensor\n",
    "dense_tensor = tf.sparse.to_dense(sparse_tensor)\n",
    "\n",
    "# run the tensor\n",
    "print(dense_tensor)"
   ]
  },
  {
   "cell_type": "markdown",
   "id": "8651608a",
   "metadata": {},
   "source": [
    "# create sparce tensor from dense"
   ]
  },
  {
   "cell_type": "code",
   "execution_count": 4,
   "id": "5db9b3e8",
   "metadata": {},
   "outputs": [],
   "source": [
    "import numpy as np"
   ]
  },
  {
   "cell_type": "code",
   "execution_count": 5,
   "id": "5b60977d",
   "metadata": {},
   "outputs": [
    {
     "data": {
      "text/plain": [
       "array([[1, 0, 0, 0],\n",
       "       [0, 0, 0, 0],\n",
       "       [0, 0, 2, 0],\n",
       "       [0, 0, 0, 4]])"
      ]
     },
     "execution_count": 5,
     "metadata": {},
     "output_type": "execute_result"
    }
   ],
   "source": [
    "np_array = np.array([[1,0,0,0],\n",
    "                    [0,0,0,0],\n",
    "                    [0,0,2,0],\n",
    "                    [0,0,0,4]])\n",
    "np_array"
   ]
  },
  {
   "cell_type": "code",
   "execution_count": 6,
   "id": "64befc76",
   "metadata": {},
   "outputs": [
    {
     "name": "stdout",
     "output_type": "stream",
     "text": [
      "2.14.0\n"
     ]
    }
   ],
   "source": [
    "import tensorflow as tf\n",
    "\n",
    "# Check the TensorFlow version\n",
    "print(tf.__version__)\n",
    "\n",
    "# Import the sparse module\n",
    "from tensorflow.sparse import SparseTensor"
   ]
  },
  {
   "cell_type": "code",
   "execution_count": 7,
   "id": "1a309d6e",
   "metadata": {},
   "outputs": [],
   "source": [
    "#from tensorflow import sparse"
   ]
  },
  {
   "cell_type": "code",
   "execution_count": 8,
   "id": "7c84a764",
   "metadata": {},
   "outputs": [],
   "source": [
    "st2_fd = tf.sparse.from_dense(np_array)\n"
   ]
  },
  {
   "cell_type": "code",
   "execution_count": 9,
   "id": "5a3ce18b",
   "metadata": {},
   "outputs": [
    {
     "name": "stdout",
     "output_type": "stream",
     "text": [
      "SparseTensor(indices=tf.Tensor(\n",
      "[[0 0]\n",
      " [2 2]\n",
      " [3 3]], shape=(3, 2), dtype=int64), values=tf.Tensor([1 2 4], shape=(3,), dtype=int32), dense_shape=tf.Tensor([4 4], shape=(2,), dtype=int64))\n"
     ]
    }
   ],
   "source": [
    "print(st2_fd)"
   ]
  },
  {
   "cell_type": "markdown",
   "id": "f080ec32",
   "metadata": {},
   "source": [
    "# Extract the value, indices and shape of sparse tensor"
   ]
  },
  {
   "cell_type": "code",
   "execution_count": 10,
   "id": "55164895",
   "metadata": {},
   "outputs": [
    {
     "data": {
      "text/plain": [
       "<tf.Tensor: shape=(3,), dtype=int32, numpy=array([1, 2, 4])>"
      ]
     },
     "execution_count": 10,
     "metadata": {},
     "output_type": "execute_result"
    }
   ],
   "source": [
    "st2_fd.values"
   ]
  },
  {
   "cell_type": "code",
   "execution_count": 11,
   "id": "e6a74dab",
   "metadata": {},
   "outputs": [
    {
     "data": {
      "text/plain": [
       "array([1, 2, 4])"
      ]
     },
     "execution_count": 11,
     "metadata": {},
     "output_type": "execute_result"
    }
   ],
   "source": [
    "st2_fd.values.numpy()"
   ]
  },
  {
   "cell_type": "code",
   "execution_count": 12,
   "id": "05ff88cd",
   "metadata": {},
   "outputs": [
    {
     "data": {
      "text/plain": [
       "[1, 2, 4]"
      ]
     },
     "execution_count": 12,
     "metadata": {},
     "output_type": "execute_result"
    }
   ],
   "source": [
    "st2_fd.values.numpy().tolist()"
   ]
  },
  {
   "cell_type": "code",
   "execution_count": 14,
   "id": "f4ed7457",
   "metadata": {},
   "outputs": [
    {
     "data": {
      "text/plain": [
       "[[0, 0], [2, 2], [3, 3]]"
      ]
     },
     "execution_count": 14,
     "metadata": {},
     "output_type": "execute_result"
    }
   ],
   "source": [
    "st2_fd.indices.numpy().tolist()"
   ]
  },
  {
   "cell_type": "code",
   "execution_count": 15,
   "id": "4b375bea",
   "metadata": {},
   "outputs": [
    {
     "data": {
      "text/plain": [
       "TensorShape([4, 4])"
      ]
     },
     "execution_count": 15,
     "metadata": {},
     "output_type": "execute_result"
    }
   ],
   "source": [
    "st2_fd.shape"
   ]
  },
  {
   "cell_type": "markdown",
   "id": "552bd926",
   "metadata": {},
   "source": [
    "# Sparse tensor to dense"
   ]
  },
  {
   "cell_type": "markdown",
   "id": "38f24046",
   "metadata": {},
   "source": [
    "if most of the element are nonzero , then tensor is considered dense"
   ]
  },
  {
   "cell_type": "code",
   "execution_count": 16,
   "id": "d89b32fe",
   "metadata": {},
   "outputs": [
    {
     "data": {
      "text/plain": [
       "<tf.Tensor: shape=(4, 4), dtype=int32, numpy=\n",
       "array([[1, 0, 0, 0],\n",
       "       [0, 0, 0, 0],\n",
       "       [0, 0, 2, 0],\n",
       "       [0, 0, 0, 4]])>"
      ]
     },
     "execution_count": 16,
     "metadata": {},
     "output_type": "execute_result"
    }
   ],
   "source": [
    "dt_fst = tf.sparse.to_dense(st2_fd)\n",
    "dt_fst"
   ]
  },
  {
   "cell_type": "markdown",
   "id": "415d7944",
   "metadata": {},
   "source": [
    "# conver dense tensor into numpy array"
   ]
  },
  {
   "cell_type": "code",
   "execution_count": 18,
   "id": "95b507e2",
   "metadata": {},
   "outputs": [
    {
     "data": {
      "text/plain": [
       "array([[1, 0, 0, 0],\n",
       "       [0, 0, 0, 0],\n",
       "       [0, 0, 2, 0],\n",
       "       [0, 0, 0, 4]])"
      ]
     },
     "execution_count": 18,
     "metadata": {},
     "output_type": "execute_result"
    }
   ],
   "source": [
    "dt_fst.numpy()"
   ]
  },
  {
   "cell_type": "markdown",
   "id": "23e807af",
   "metadata": {},
   "source": [
    "# Mathemicatical operation on the sparse tensor"
   ]
  },
  {
   "cell_type": "code",
   "execution_count": 19,
   "id": "36360263",
   "metadata": {},
   "outputs": [
    {
     "data": {
      "text/plain": [
       "SparseTensor(indices=tf.Tensor(\n",
       "[[0 0]\n",
       " [2 2]\n",
       " [3 3]], shape=(3, 2), dtype=int64), values=tf.Tensor([2 4 8], shape=(3,), dtype=int32), dense_shape=tf.Tensor([4 4], shape=(2,), dtype=int64))"
      ]
     },
     "execution_count": 19,
     "metadata": {},
     "output_type": "execute_result"
    }
   ],
   "source": [
    "st_add = tf.sparse.add(st2_fd, st2_fd)\n",
    "st_add"
   ]
  },
  {
   "cell_type": "code",
   "execution_count": 20,
   "id": "fa29c17c",
   "metadata": {},
   "outputs": [
    {
     "data": {
      "text/plain": [
       "<tf.Tensor: shape=(4, 4), dtype=int32, numpy=\n",
       "array([[2, 0, 0, 0],\n",
       "       [0, 0, 0, 0],\n",
       "       [0, 0, 4, 0],\n",
       "       [0, 0, 0, 8]])>"
      ]
     },
     "execution_count": 20,
     "metadata": {},
     "output_type": "execute_result"
    }
   ],
   "source": [
    "tf.sparse.to_dense(st_add)"
   ]
  },
  {
   "cell_type": "code",
   "execution_count": null,
   "id": "21f35bc8",
   "metadata": {},
   "outputs": [],
   "source": []
  }
 ],
 "metadata": {
  "kernelspec": {
   "display_name": "Python 3 (ipykernel)",
   "language": "python",
   "name": "python3"
  },
  "language_info": {
   "codemirror_mode": {
    "name": "ipython",
    "version": 3
   },
   "file_extension": ".py",
   "mimetype": "text/x-python",
   "name": "python",
   "nbconvert_exporter": "python",
   "pygments_lexer": "ipython3",
   "version": "3.11.4"
  }
 },
 "nbformat": 4,
 "nbformat_minor": 5
}
