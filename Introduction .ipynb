{
 "cells": [
  {
   "cell_type": "markdown",
   "id": "14d8c43d",
   "metadata": {},
   "source": [
    "# Introduction of Tensorflow"
   ]
  },
  {
   "cell_type": "markdown",
   "id": "d6f67f2f",
   "metadata": {},
   "source": [
    "Tensorflow is the core open source library to help you develop and train Mechine learning / Deep learning\n",
    "\n",
    "It can be used across a range of tasks but has a particular focus on training and inference of deep neural networks.\n",
    "\n",
    "TensorFlow was developed by the Google Brain team for internal Google use in research and production.\n",
    "\n",
    "Its use grew rapidly across diverse Alphabet companies in both research and commercial applications.\n",
    "\n",
    "TensorFlow computations are expressed as stateful dataflow graphs.\n",
    "\n",
    "The name TensorFlow derives from the operations that such neural networks perform on multidimensional data arrays,\n",
    "which are referred to as tensors."
   ]
  },
  {
   "cell_type": "markdown",
   "id": "8377717c",
   "metadata": {},
   "source": [
    "nodes in the graph represent mathematical operations.\n",
    "\n",
    "edges in the graph represent the multidimensional data arrays (called tensors)"
   ]
  },
  {
   "cell_type": "markdown",
   "id": "1001b862",
   "metadata": {},
   "source": [
    "# TensorFlow APIs"
   ]
  },
  {
   "cell_type": "markdown",
   "id": "fa4f3fb3",
   "metadata": {},
   "source": [
    "TensorFlow provides multiple APIs (Application Programming Interfaces). These can be classified into 2 major categories\n",
    "\n",
    "1. Low level API\n",
    "\n",
    "2. High level API"
   ]
  },
  {
   "cell_type": "markdown",
   "id": "f4f73132",
   "metadata": {},
   "source": [
    "# Low level API"
   ]
  },
  {
   "cell_type": "markdown",
   "id": "843468d1",
   "metadata": {},
   "source": [
    "complete programming control\n",
    "\n",
    "recommended for machine learning researchers\n",
    "\n",
    "provides fine levels of control over the models\n",
    "\n",
    "TensorFlow Core is the low level API of TensorFlow."
   ]
  },
  {
   "cell_type": "markdown",
   "id": "5f8e1752",
   "metadata": {},
   "source": [
    "# High level API"
   ]
  },
  {
   "cell_type": "markdown",
   "id": "c73f2ad3",
   "metadata": {},
   "source": [
    "built on top of TensorFlow Core\n",
    "\n",
    "easier to learn and use than TensorFlow Core\n",
    "\n",
    "make repetitive tasks easier and more consistent between different users\n",
    "\n",
    "tf.contrib.learn is an example of a high level API"
   ]
  },
  {
   "cell_type": "markdown",
   "id": "74ebffed",
   "metadata": {},
   "source": [
    "# 2. The Computational Graph"
   ]
  },
  {
   "cell_type": "markdown",
   "id": "b6156ed7",
   "metadata": {},
   "source": [
    "Any TensorFlow Core program can be divided into two discrete sections:\n",
    "\n",
    "Building the computational graph.A computational graph is nothing but a series of TensorFlow operations arranged into\n",
    "a graph of nodes.\n",
    "\n",
    "Running the computational graph.To actually evaluate the nodes, we must run the computational graph within a session.\n",
    "A session encapsulates the control and state of the TensorFlow runtime."
   ]
  },
  {
   "cell_type": "markdown",
   "id": "bca076c6",
   "metadata": {},
   "source": [
    "# TensorFlow - Mathematical Foundations"
   ]
  },
  {
   "cell_type": "markdown",
   "id": "61665a7b",
   "metadata": {},
   "source": [
    " It is important to understand mathematical concepts needed for TensorFlow before creating the basic application in TensorFlow.\n",
    "\n",
    "Mathematics is considered as the heart of any machine learning algorithm. It is with the help of core concepts of Mathematics,\n",
    "\n",
    "a solution for specific machine learning algorithm is defined."
   ]
  },
  {
   "cell_type": "markdown",
   "id": "e87be563",
   "metadata": {},
   "source": [
    "# Scalar"
   ]
  },
  {
   "cell_type": "markdown",
   "id": "5b81b5fc",
   "metadata": {},
   "source": [
    "Scalar can be defined as one-dimensional vector. Scalars are those, which include only magnitude and no direction.\n",
    "With scalars, we are only concerned with the magnitude.\n",
    "\n",
    "Examples of scalar include weight and height parameters of children."
   ]
  },
  {
   "cell_type": "markdown",
   "id": "37386c5c",
   "metadata": {},
   "source": [
    "# Vector"
   ]
  },
  {
   "cell_type": "markdown",
   "id": "7bf54ac5",
   "metadata": {},
   "source": [
    "An array of numbers, which is either continuous or discrete, is defined as a vector.\n",
    "\n",
    "Machine learning algorithms deal with fixed length vectors for better output generation.\n",
    "\n",
    "Machine learning algorithms deal with multidimensional data so vectors play a crucial role."
   ]
  },
  {
   "cell_type": "markdown",
   "id": "b68cb272",
   "metadata": {},
   "source": [
    "# Matrix"
   ]
  },
  {
   "cell_type": "markdown",
   "id": "0ec00218",
   "metadata": {},
   "source": [
    "Matrix can be defined as multi-dimensional arrays, which are arranged in the format of rows and columns.\n",
    "\n",
    "The size of matrix is defined by row length and column length. \n",
    "\n",
    "Following figure shows the representation of any specified matrix."
   ]
  },
  {
   "cell_type": "markdown",
   "id": "7633270e",
   "metadata": {},
   "source": [
    "# Tensor"
   ]
  },
  {
   "cell_type": "markdown",
   "id": "68998d9a",
   "metadata": {},
   "source": [
    "A tensor is a mathematically object\n",
    "\n",
    "Tensor are defined as multidimensional array or list\n",
    "\n",
    "Tensor are identified by the following three parameters\n",
    "\n",
    "1 = Rank:\n",
    "    \n",
    "        it identifies the number of dimension of the tensor. EX = vector,scaler, matrix\n",
    "        \n",
    "2 = Shape:\n",
    "    \n",
    "         the number of columns and rows of tensor\n",
    "        \n",
    "3 = Type:\n",
    "    \n",
    "        Data type assigned to tensor's element. Ex = float,string,boolean,integer\n",
    "        \n",
    "Saclar,Array or Vectors,which are one dimensional,or metrices,which are two dimensional .\n",
    "\n",
    "But tensors can be more than three,four or five dimensional or multidimensional."
   ]
  },
  {
   "cell_type": "markdown",
   "id": "ebd3d956",
   "metadata": {},
   "source": [
    "# Flow"
   ]
  },
  {
   "cell_type": "markdown",
   "id": "3207bbe2",
   "metadata": {},
   "source": [
    "Graphical representation of mathematical operation\n",
    "\n",
    "Everything in Tensorflow is based on designing a computational graph.\n",
    "\n",
    "the graph has a network of nodes,with each node operating addition, multiplication or evaluting some multivariate equation.\n",
    "\n",
    "the code is written to build graph,create a session,and execute a graph"
   ]
  },
  {
   "cell_type": "code",
   "execution_count": null,
   "id": "ee8b186b",
   "metadata": {},
   "outputs": [],
   "source": []
  }
 ],
 "metadata": {
  "kernelspec": {
   "display_name": "Python 3 (ipykernel)",
   "language": "python",
   "name": "python3"
  },
  "language_info": {
   "codemirror_mode": {
    "name": "ipython",
    "version": 3
   },
   "file_extension": ".py",
   "mimetype": "text/x-python",
   "name": "python",
   "nbconvert_exporter": "python",
   "pygments_lexer": "ipython3",
   "version": "3.11.4"
  }
 },
 "nbformat": 4,
 "nbformat_minor": 5
}
